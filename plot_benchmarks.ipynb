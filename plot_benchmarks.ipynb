{
 "cells": [
  {
   "cell_type": "code",
   "execution_count": 30,
   "metadata": {},
   "outputs": [
    {
     "data": {
      "text/plain": [
       "\"/Users/ole/Documents/Studium/master/hpc_seminar/hpc-lab/benchmark_results.png\""
      ]
     },
     "metadata": {},
     "output_type": "display_data"
    }
   ],
   "source": [
    "using Plots\n",
    "using StatsPlots\n",
    "using YAML\n",
    "benchmarks = YAML.load_file(\"benchmark_results.yaml\")\n",
    "num_implementations = length(first(values(benchmarks)))\n",
    "num_setups = length(keys(benchmarks))\n",
    "implementation_names = collect(keys(first(values(benchmarks))))\n",
    "benchmark_names = sort(collect(keys(benchmarks)))\n",
    "max_time_by_implementation = [maximum([benchmarks[b][i][\"time\"][\"median\"] for b in benchmark_names]) for i in implementation_names]\n",
    "sort_permutation = sortperm(max_time_by_implementation)\n",
    "implementation_names = collect(implementation_names[sort_permutation])\n",
    "medians = zeros(num_implementations, num_setups)\n",
    "\n",
    "\n",
    "for (i, benchmark_name) in enumerate(benchmark_names)\n",
    "    benchmark = benchmarks[benchmark_name]\n",
    "    for (j, implementation_name) in enumerate(implementation_names)\n",
    "        implementation = benchmark[implementation_name]\n",
    "        time = implementation[\"time\"][\"median\"]\n",
    "        medians[j, i] = time\n",
    "    end\n",
    "end\n",
    "min_time = minimum(medians)\n",
    "max_time= maximum(medians)\n",
    "benchmark_labels =[\"$(first(split(b, \".\"))) x $(first(split(b, \".\")))\" for b in benchmark_names]\n",
    "\n",
    "p=groupedbar(medians, yscale=:log10, group=repeat(benchmark_labels, inner=num_implementations),\n",
    "    xticks=(eachindex(implementation_names), implementation_names), xrotation=90, ylims=(min_time*0.8, max_time), \n",
    "    size=(800, 800), minorgrid=true, ylabel=\"Time (s)\", title=\"Benchmark Results\")\n",
    "savefig(p, \"benchmark_results.png\")"
   ]
  },
  {
   "cell_type": "code",
   "execution_count": 2,
   "metadata": {},
   "outputs": [
    {
     "data": {
      "text/plain": [
       "10-element Vector{String}:\n",
       " \"Category 1\"\n",
       " \"Category 1\"\n",
       " \"Category 1\"\n",
       " \"Category 1\"\n",
       " \"Category 1\"\n",
       " \"Category 2\"\n",
       " \"Category 2\"\n",
       " \"Category 2\"\n",
       " \"Category 2\"\n",
       " \"Category 2\""
      ]
     },
     "metadata": {},
     "output_type": "display_data"
    }
   ],
   "source": [
    "repeat([\"Category 1\", \"Category 2\"], inner = 5)"
   ]
  }
 ],
 "metadata": {
  "kernelspec": {
   "display_name": "Julia 1.10.3",
   "language": "julia",
   "name": "julia-1.10"
  },
  "language_info": {
   "file_extension": ".jl",
   "mimetype": "application/julia",
   "name": "julia",
   "version": "1.10.3"
  }
 },
 "nbformat": 4,
 "nbformat_minor": 2
}
