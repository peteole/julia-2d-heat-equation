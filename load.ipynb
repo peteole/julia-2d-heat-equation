{
 "cells": [
  {
   "cell_type": "code",
   "execution_count": 15,
   "metadata": {},
   "outputs": [],
   "source": [
    "import pyvista as pv\n",
    "loaded=pv.read(\"implementations/julia_sequential_stencil/output/5000.vti\")\n",
    "temperature = loaded['temperature']"
   ]
  },
  {
   "cell_type": "code",
   "execution_count": 46,
   "metadata": {},
   "outputs": [],
   "source": [
    "import numpy as np\n",
    "def load(path):\n",
    "    loaded=pv.read(path)\n",
    "    temperature = loaded['temperature']\n",
    "    dimensions = loaded.dimensions\n",
    "    return np.array(temperature).reshape(dimensions, order='F')\n"
   ]
  },
  {
   "cell_type": "code",
   "execution_count": 60,
   "metadata": {},
   "outputs": [
    {
     "data": {
      "text/plain": [
       "0.044919605291461884"
      ]
     },
     "execution_count": 60,
     "metadata": {},
     "output_type": "execute_result"
    }
   ],
   "source": [
    "t1=load(\"implementations/julia_sequential_stencil/output/4000.vti\")\n",
    "t2=load(\"implementations/julia_metal_kernel/output/4000.vti\")\n",
    "\n",
    "t3=load(\"implementations/numpy/output/4000.vti\")\n",
    "import matplotlib.pyplot as plt\n",
    "# plt.imshow(t1)\n",
    "# plt.show()\n",
    "# plt.imshow(t2)\n",
    "# plt.show()\n",
    "# plt.imshow(t3)\n",
    "# plt.show()\n",
    "np.linalg.norm(t2-t3)"
   ]
  },
  {
   "cell_type": "code",
   "execution_count": 35,
   "metadata": {},
   "outputs": [
    {
     "data": {
      "text/plain": [
       "array([[[0.        ],\n",
       "        [0.        ],\n",
       "        [0.        ],\n",
       "        ...,\n",
       "        [0.        ],\n",
       "        [0.        ],\n",
       "        [0.        ]],\n",
       "\n",
       "       [[0.        ],\n",
       "        [0.00051124],\n",
       "        [0.00102206],\n",
       "        ...,\n",
       "        [0.00102206],\n",
       "        [0.00051124],\n",
       "        [0.        ]],\n",
       "\n",
       "       [[0.        ],\n",
       "        [0.00102206],\n",
       "        [0.0020433 ],\n",
       "        ...,\n",
       "        [0.0020433 ],\n",
       "        [0.00102206],\n",
       "        [0.        ]],\n",
       "\n",
       "       ...,\n",
       "\n",
       "       [[0.        ],\n",
       "        [0.00102206],\n",
       "        [0.0020433 ],\n",
       "        ...,\n",
       "        [0.0020433 ],\n",
       "        [0.00102206],\n",
       "        [0.        ]],\n",
       "\n",
       "       [[0.        ],\n",
       "        [0.00051124],\n",
       "        [0.00102206],\n",
       "        ...,\n",
       "        [0.00102206],\n",
       "        [0.00051124],\n",
       "        [0.        ]],\n",
       "\n",
       "       [[0.        ],\n",
       "        [0.        ],\n",
       "        [0.        ],\n",
       "        ...,\n",
       "        [0.        ],\n",
       "        [0.        ],\n",
       "        [0.        ]]])"
      ]
     },
     "execution_count": 35,
     "metadata": {},
     "output_type": "execute_result"
    }
   ],
   "source": [
    "# get \"temperature\" field\n",
    "import numpy as np\n",
    "temperature = loaded['temperature']\n",
    "loaded.dimensions\n",
    "np.array(temperature).reshape(loaded.dimensions)"
   ]
  }
 ],
 "metadata": {
  "kernelspec": {
   "display_name": "Python 3",
   "language": "python",
   "name": "python3"
  },
  "language_info": {
   "codemirror_mode": {
    "name": "ipython",
    "version": 3
   },
   "file_extension": ".py",
   "mimetype": "text/x-python",
   "name": "python",
   "nbconvert_exporter": "python",
   "pygments_lexer": "ipython3",
   "version": "3.11.9"
  }
 },
 "nbformat": 4,
 "nbformat_minor": 2
}
