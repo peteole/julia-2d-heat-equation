{
 "cells": [
  {
   "cell_type": "code",
   "execution_count": 13,
   "metadata": {},
   "outputs": [
    {
     "name": "stdout",
     "output_type": "stream",
     "text": [
      "The autoreload extension is already loaded. To reload it, use:\n",
      "  %reload_ext autoreload\n"
     ]
    }
   ],
   "source": [
    "from problem import Problem\n",
    "%load_ext autoreload\n",
    "%autoreload 2\n"
   ]
  },
  {
   "cell_type": "code",
   "execution_count": 14,
   "metadata": {},
   "outputs": [],
   "source": [
    "p = Problem(\"../../config.yaml\")"
   ]
  },
  {
   "cell_type": "code",
   "execution_count": 29,
   "metadata": {},
   "outputs": [],
   "source": [
    "p.solve(p.np_step)"
   ]
  },
  {
   "cell_type": "code",
   "execution_count": 15,
   "metadata": {},
   "outputs": [],
   "source": [
    "p.solve_torch_conv()"
   ]
  },
  {
   "cell_type": "markdown",
   "metadata": {},
   "source": [
    "vtk output. Thank you, ChatGPT"
   ]
  },
  {
   "cell_type": "code",
   "execution_count": 16,
   "metadata": {},
   "outputs": [
    {
     "name": "stdout",
     "output_type": "stream",
     "text": [
      "VTK image saved as 'output.vtk'\n"
     ]
    }
   ],
   "source": [
    "import vtk\n",
    "from vtk.util.numpy_support import numpy_to_vtk, numpy_to_vtkIdTypeArray\n",
    "\n",
    "\n",
    "array_2d = p.u\n",
    "\n",
    "# Convert the NumPy array to a VTK array\n",
    "vtk_data_array = numpy_to_vtk(array_2d.ravel(), deep=True, array_type=vtk.VTK_FLOAT)\n",
    "\n",
    "# Create a VTK image data object\n",
    "image_data = vtk.vtkImageData()\n",
    "\n",
    "# Set the dimensions of the image data (width, height, depth)\n",
    "image_data.SetDimensions(array_2d.shape[1], array_2d.shape[0], 1)\n",
    "\n",
    "# Set the data type of the scalars\n",
    "image_data.AllocateScalars(vtk.VTK_FLOAT, 1)\n",
    "\n",
    "# Set the VTK array as the scalars of the image data\n",
    "image_data.GetPointData().SetScalars(vtk_data_array)\n",
    "\n",
    "# Write the image data to a .vtk file using a VTK image writer\n",
    "writer = vtk.vtkStructuredPointsWriter()\n",
    "writer.SetFileName(\"output.vtk\")\n",
    "writer.SetInputData(image_data)\n",
    "writer.Write()\n",
    "\n",
    "print(\"VTK image saved as 'output.vtk'\")"
   ]
  }
 ],
 "metadata": {
  "kernelspec": {
   "display_name": "i2dl",
   "language": "python",
   "name": "python3"
  },
  "language_info": {
   "codemirror_mode": {
    "name": "ipython",
    "version": 3
   },
   "file_extension": ".py",
   "mimetype": "text/x-python",
   "name": "python",
   "nbconvert_exporter": "python",
   "pygments_lexer": "ipython3",
   "version": "3.11.9"
  }
 },
 "nbformat": 4,
 "nbformat_minor": 2
}
